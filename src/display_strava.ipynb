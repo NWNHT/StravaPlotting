{
 "cells": [
  {
   "cell_type": "code",
   "execution_count": 1,
   "metadata": {},
   "outputs": [],
   "source": [
    "from strava.data.cache import Cache\n",
    "from strava.data.strava_requests import *\n",
    "from strava.plotting.strava_annual_plots import *\n",
    "from strava.plotting.strava_stream_plots import *\n",
    "\n",
    "import aiohttp\n",
    "import asyncio\n",
    "import copy\n",
    "from datetime import date\n",
    "import datetime\n",
    "import json\n",
    "import matplotlib.pyplot as plt\n",
    "import numpy as np\n",
    "import requests\n",
    "import os\n",
    "import pandas as pd\n",
    "from pandas_profiling import ProfileReport\n",
    "from plotnine import ggplot, aes\n",
    "import plotnine as gg\n",
    "import time\n",
    "from typing import List\n",
    "import urllib3\n",
    "import PIL\n",
    "from PIL import Image\n",
    "urllib3.disable_warnings(urllib3.exceptions.InsecureRequestWarning)\n",
    "gg.options.figure_size = (11, 8.5)\n",
    "pt.dark()"
   ]
  },
  {
   "cell_type": "markdown",
   "metadata": {},
   "source": [
    "## Get the Raw data and create a copy"
   ]
  },
  {
   "cell_type": "code",
   "execution_count": 2,
   "metadata": {},
   "outputs": [
    {
     "name": "stdout",
     "output_type": "stream",
     "text": [
      "Requesting new token...\n",
      "Token received.\n",
      "Beginning request of activities...\n",
      "-> Received page 1 with 200 activities.\n",
      "-> Received page 2 with 133 activities.\n",
      "-> Received page 3 with 0 activities.\n",
      "...retrieved total of 333 activities.\n"
     ]
    }
   ],
   "source": [
    "activities_data_raw = retrieve_activities()"
   ]
  },
  {
   "cell_type": "code",
   "execution_count": 3,
   "metadata": {},
   "outputs": [],
   "source": [
    "# This can be re-run to refresh \"data\" in case of modification in case I don't want to request the raw_data again\n",
    "activities_data = copy.deepcopy(activities_data_raw)\n",
    "activities_df = pd.json_normalize(activities_data)"
   ]
  },
  {
   "cell_type": "markdown",
   "metadata": {},
   "source": [
    "## Cleaning Data and converting to more useful formats/units"
   ]
  },
  {
   "cell_type": "code",
   "execution_count": 4,
   "metadata": {},
   "outputs": [
    {
     "data": {
      "text/html": [
       "<div>\n",
       "<style scoped>\n",
       "    .dataframe tbody tr th:only-of-type {\n",
       "        vertical-align: middle;\n",
       "    }\n",
       "\n",
       "    .dataframe tbody tr th {\n",
       "        vertical-align: top;\n",
       "    }\n",
       "\n",
       "    .dataframe thead th {\n",
       "        text-align: right;\n",
       "    }\n",
       "</style>\n",
       "<table border=\"1\" class=\"dataframe\">\n",
       "  <thead>\n",
       "    <tr style=\"text-align: right;\">\n",
       "      <th></th>\n",
       "      <th>id</th>\n",
       "      <th>name</th>\n",
       "      <th>distance</th>\n",
       "      <th>moving_time</th>\n",
       "      <th>elapsed_time</th>\n",
       "      <th>total_elevation_gain</th>\n",
       "      <th>elev_high</th>\n",
       "      <th>elev_low</th>\n",
       "      <th>sport_type</th>\n",
       "      <th>start_date_local</th>\n",
       "      <th>...</th>\n",
       "      <th>start_latlng</th>\n",
       "      <th>end_latlng</th>\n",
       "      <th>achievement_count</th>\n",
       "      <th>map.id</th>\n",
       "      <th>workout_type</th>\n",
       "      <th>average_speed</th>\n",
       "      <th>max_speed</th>\n",
       "      <th>average_heartrate</th>\n",
       "      <th>max_heartrate</th>\n",
       "      <th>map.summary_polyline</th>\n",
       "    </tr>\n",
       "  </thead>\n",
       "  <tbody>\n",
       "    <tr>\n",
       "      <th>0</th>\n",
       "      <td>7928110779</td>\n",
       "      <td>Afternoon Ride</td>\n",
       "      <td>42820.4</td>\n",
       "      <td>5501</td>\n",
       "      <td>5786</td>\n",
       "      <td>267.7</td>\n",
       "      <td>694.2</td>\n",
       "      <td>650.1</td>\n",
       "      <td>Ride</td>\n",
       "      <td>2022-10-07T13:44:16Z</td>\n",
       "      <td>...</td>\n",
       "      <td>[53.63675703294575, -113.5878349095583]</td>\n",
       "      <td>[53.63683347590268, -113.58797354623675]</td>\n",
       "      <td>2</td>\n",
       "      <td>a7928110779</td>\n",
       "      <td>NaN</td>\n",
       "      <td>7.784</td>\n",
       "      <td>14.578</td>\n",
       "      <td>171.5</td>\n",
       "      <td>192.0</td>\n",
       "      <td>ymjfIthjtTbCfEwBnEqBvHiDhCeEb@{FcBmCPwBdBUtBLh...</td>\n",
       "    </tr>\n",
       "  </tbody>\n",
       "</table>\n",
       "<p>1 rows × 21 columns</p>\n",
       "</div>"
      ],
      "text/plain": [
       "           id            name  distance  moving_time  elapsed_time  \\\n",
       "0  7928110779  Afternoon Ride   42820.4         5501          5786   \n",
       "\n",
       "   total_elevation_gain  elev_high  elev_low sport_type      start_date_local  \\\n",
       "0                 267.7      694.2     650.1       Ride  2022-10-07T13:44:16Z   \n",
       "\n",
       "   ...                             start_latlng  \\\n",
       "0  ...  [53.63675703294575, -113.5878349095583]   \n",
       "\n",
       "                                 end_latlng achievement_count       map.id  \\\n",
       "0  [53.63683347590268, -113.58797354623675]                 2  a7928110779   \n",
       "\n",
       "  workout_type  average_speed  max_speed  average_heartrate  max_heartrate  \\\n",
       "0          NaN          7.784     14.578              171.5          192.0   \n",
       "\n",
       "                                map.summary_polyline  \n",
       "0  ymjfIthjtTbCfEwBnEqBvHiDhCeEb@{FcBmCPwBdBUtBLh...  \n",
       "\n",
       "[1 rows x 21 columns]"
      ]
     },
     "execution_count": 4,
     "metadata": {},
     "output_type": "execute_result"
    }
   ],
   "source": [
    "columns_of_interest = [\"id\", \"name\", \"distance\", \"moving_time\", \"elapsed_time\", \"total_elevation_gain\", \"elev_high\", \"elev_low\", \n",
    "                        \"sport_type\", \"start_date_local\", \"timezone\", \"start_latlng\", \"end_latlng\", \"achievement_count\", \"map.id\", \n",
    "                        \"workout_type\", \"average_speed\", \"max_speed\", \"average_heartrate\", \"max_heartrate\", \"map.summary_polyline\"]\n",
    "activities_df = activities_df[columns_of_interest]\n",
    "activities_df.head(1)"
   ]
  },
  {
   "cell_type": "code",
   "execution_count": 5,
   "metadata": {},
   "outputs": [
    {
     "data": {
      "text/html": [
       "<div>\n",
       "<style scoped>\n",
       "    .dataframe tbody tr th:only-of-type {\n",
       "        vertical-align: middle;\n",
       "    }\n",
       "\n",
       "    .dataframe tbody tr th {\n",
       "        vertical-align: top;\n",
       "    }\n",
       "\n",
       "    .dataframe thead th {\n",
       "        text-align: right;\n",
       "    }\n",
       "</style>\n",
       "<table border=\"1\" class=\"dataframe\">\n",
       "  <thead>\n",
       "    <tr style=\"text-align: right;\">\n",
       "      <th></th>\n",
       "      <th>id</th>\n",
       "      <th>name</th>\n",
       "      <th>distance</th>\n",
       "      <th>moving_time</th>\n",
       "      <th>elapsed_time</th>\n",
       "      <th>total_elevation_gain</th>\n",
       "      <th>elev_high</th>\n",
       "      <th>elev_low</th>\n",
       "      <th>sport_type</th>\n",
       "      <th>start_date_local</th>\n",
       "      <th>...</th>\n",
       "      <th>achievement_count</th>\n",
       "      <th>map.id</th>\n",
       "      <th>workout_type</th>\n",
       "      <th>average_speed</th>\n",
       "      <th>max_speed</th>\n",
       "      <th>average_heartrate</th>\n",
       "      <th>max_heartrate</th>\n",
       "      <th>map.summary_polyline</th>\n",
       "      <th>year</th>\n",
       "      <th>date_year_agnostic</th>\n",
       "    </tr>\n",
       "  </thead>\n",
       "  <tbody>\n",
       "    <tr>\n",
       "      <th>0</th>\n",
       "      <td>7928110779</td>\n",
       "      <td>Afternoon Ride</td>\n",
       "      <td>42820.4</td>\n",
       "      <td>0 days 01:31:41</td>\n",
       "      <td>0 days 01:36:26</td>\n",
       "      <td>267.7</td>\n",
       "      <td>694.2</td>\n",
       "      <td>650.1</td>\n",
       "      <td>Ride</td>\n",
       "      <td>2022-10-07 13:44:16</td>\n",
       "      <td>...</td>\n",
       "      <td>2</td>\n",
       "      <td>a7928110779</td>\n",
       "      <td>NaN</td>\n",
       "      <td>28.0224</td>\n",
       "      <td>52.4808</td>\n",
       "      <td>171.5</td>\n",
       "      <td>192.0</td>\n",
       "      <td>ymjfIthjtTbCfEwBnEqBvHiDhCeEb@{FcBmCPwBdBUtBLh...</td>\n",
       "      <td>2022</td>\n",
       "      <td>2020-10-07 13:44:16</td>\n",
       "    </tr>\n",
       "    <tr>\n",
       "      <th>1</th>\n",
       "      <td>7916199658</td>\n",
       "      <td>Morning Ride</td>\n",
       "      <td>15448.7</td>\n",
       "      <td>0 days 00:34:13</td>\n",
       "      <td>0 days 00:34:33</td>\n",
       "      <td>78.0</td>\n",
       "      <td>694.2</td>\n",
       "      <td>652.7</td>\n",
       "      <td>Ride</td>\n",
       "      <td>2022-10-05 10:02:59</td>\n",
       "      <td>...</td>\n",
       "      <td>0</td>\n",
       "      <td>a7916199658</td>\n",
       "      <td>NaN</td>\n",
       "      <td>27.0900</td>\n",
       "      <td>57.3048</td>\n",
       "      <td>165.2</td>\n",
       "      <td>184.0</td>\n",
       "      <td>_njfIphjtTbAzAbAbANZ_AjBg@dBaAxAw@lDSf@sAz@[Ce...</td>\n",
       "      <td>2022</td>\n",
       "      <td>2020-10-05 10:02:59</td>\n",
       "    </tr>\n",
       "  </tbody>\n",
       "</table>\n",
       "<p>2 rows × 23 columns</p>\n",
       "</div>"
      ],
      "text/plain": [
       "           id            name  distance     moving_time    elapsed_time  \\\n",
       "0  7928110779  Afternoon Ride   42820.4 0 days 01:31:41 0 days 01:36:26   \n",
       "1  7916199658    Morning Ride   15448.7 0 days 00:34:13 0 days 00:34:33   \n",
       "\n",
       "   total_elevation_gain  elev_high  elev_low sport_type    start_date_local  \\\n",
       "0                 267.7      694.2     650.1       Ride 2022-10-07 13:44:16   \n",
       "1                  78.0      694.2     652.7       Ride 2022-10-05 10:02:59   \n",
       "\n",
       "   ... achievement_count       map.id workout_type  average_speed max_speed  \\\n",
       "0  ...                 2  a7928110779          NaN        28.0224   52.4808   \n",
       "1  ...                 0  a7916199658          NaN        27.0900   57.3048   \n",
       "\n",
       "   average_heartrate  max_heartrate  \\\n",
       "0              171.5          192.0   \n",
       "1              165.2          184.0   \n",
       "\n",
       "                                map.summary_polyline  year  date_year_agnostic  \n",
       "0  ymjfIthjtTbCfEwBnEqBvHiDhCeEb@{FcBmCPwBdBUtBLh...  2022 2020-10-07 13:44:16  \n",
       "1  _njfIphjtTbAzAbAbANZ_AjBg@dBaAxAw@lDSf@sAz@[Ce...  2022 2020-10-05 10:02:59  \n",
       "\n",
       "[2 rows x 23 columns]"
      ]
     },
     "execution_count": 5,
     "metadata": {},
     "output_type": "execute_result"
    }
   ],
   "source": [
    "# Convert dates and times to datetime\n",
    "activities_df[\"start_date_local\"] = pd.to_datetime(activities_df[\"start_date_local\"], format=\"%Y-%m-%dT%H:%M:%SZ\")\n",
    "for s in [\"moving_time\", \"elapsed_time\"]:\n",
    "    activities_df[s] = pd.to_timedelta(activities_df[s], unit='S')\n",
    "# Create a column holding only the year and a column \n",
    "activities_df[\"year\"] = activities_df[\"start_date_local\"].apply(lambda x: x.year)\n",
    "activities_df[\"date_year_agnostic\"] = activities_df[\"start_date_local\"].apply(lambda x: x.replace(year=2020))\n",
    "\n",
    "# Units\n",
    "activities_df[[\"average_speed\", \"max_speed\"]] = activities_df[[\"average_speed\", \"max_speed\"]] * 3.6\n",
    "\n",
    "# Filter\n",
    "activities_df = activities_df.loc[activities_df.sport_type == \"Ride\"]     # Select only bicycling activities\n",
    "activities_df = activities_df.loc[activities_df.max_speed > 0.1]          # Remove any throwaway activities\n",
    "activities_df = activities_df.loc[activities_df.average_heartrate > 145]  # Remove any activities where I wasn't trying that hard\n",
    "activities_df.head(2)"
   ]
  },
  {
   "cell_type": "markdown",
   "metadata": {},
   "source": [
    "## Getting a stream"
   ]
  },
  {
   "cell_type": "code",
   "execution_count": 12,
   "metadata": {},
   "outputs": [
    {
     "name": "stdout",
     "output_type": "stream",
     "text": [
      "Found activity 7830749817 in cache.\n"
     ]
    },
    {
     "data": {
      "text/html": [
       "<div>\n",
       "<style scoped>\n",
       "    .dataframe tbody tr th:only-of-type {\n",
       "        vertical-align: middle;\n",
       "    }\n",
       "\n",
       "    .dataframe tbody tr th {\n",
       "        vertical-align: top;\n",
       "    }\n",
       "\n",
       "    .dataframe thead th {\n",
       "        text-align: right;\n",
       "    }\n",
       "</style>\n",
       "<table border=\"1\" class=\"dataframe\">\n",
       "  <thead>\n",
       "    <tr style=\"text-align: right;\">\n",
       "      <th></th>\n",
       "      <th>moving</th>\n",
       "      <th>velocity</th>\n",
       "      <th>distance</th>\n",
       "      <th>altitude</th>\n",
       "      <th>heartrate</th>\n",
       "      <th>time</th>\n",
       "      <th>id</th>\n",
       "    </tr>\n",
       "  </thead>\n",
       "  <tbody>\n",
       "    <tr>\n",
       "      <th>0</th>\n",
       "      <td>False</td>\n",
       "      <td>0.0</td>\n",
       "      <td>0.0</td>\n",
       "      <td>691.3</td>\n",
       "      <td>101</td>\n",
       "      <td>0</td>\n",
       "      <td>7830749817</td>\n",
       "    </tr>\n",
       "    <tr>\n",
       "      <th>1</th>\n",
       "      <td>True</td>\n",
       "      <td>0.0</td>\n",
       "      <td>4.0</td>\n",
       "      <td>691.4</td>\n",
       "      <td>101</td>\n",
       "      <td>1</td>\n",
       "      <td>7830749817</td>\n",
       "    </tr>\n",
       "  </tbody>\n",
       "</table>\n",
       "</div>"
      ],
      "text/plain": [
       "   moving  velocity  distance  altitude  heartrate  time          id\n",
       "0   False       0.0       0.0     691.3        101     0  7830749817\n",
       "1    True       0.0       4.0     691.4        101     1  7830749817"
      ]
     },
     "execution_count": 12,
     "metadata": {},
     "output_type": "execute_result"
    }
   ],
   "source": [
    "cache = Cache()\n",
    "ride_date = date(2022, 9, 18)\n",
    "stream = create_stream_df(get_activity_stream_by_date(activities=activities_df, date=ride_date, cache=cache), activity_id_by_date(activities=activities_df, date=ride_date))\n",
    "stream.rename({\"velocity_smooth\": \"velocity\"}, axis=1, inplace=True)\n",
    "stream[\"velocity\"] = stream[\"velocity\"] * 3.6\n",
    "stream.head(2)"
   ]
  },
  {
   "cell_type": "markdown",
   "metadata": {},
   "source": [
    "## Testing Plots"
   ]
  },
  {
   "cell_type": "code",
   "execution_count": 13,
   "metadata": {},
   "outputs": [],
   "source": [
    "red = \"#DD1616\"\n",
    "yellow = \"#F0F01C\"\n",
    "green = \"#17C903\"\n",
    "alt_heartcolor = ggplot(stream, aes(x=\"distance\", y=\"altitude\", color=\"heartrate\")) \\\n",
    "    + gg.geom_line(size=1.5) \\\n",
    "    + gg.theme_light() + gg.theme(text=gg.element_text(color=stred)) \\\n",
    "    + gg.scale_colour_gradientn(colors=[green, yellow, red], values=[0, 0.7, 1])\n"
   ]
  },
  {
   "cell_type": "markdown",
   "metadata": {},
   "source": [
    "## Create the Stream Plots"
   ]
  },
  {
   "cell_type": "code",
   "execution_count": 14,
   "metadata": {},
   "outputs": [],
   "source": [
    "heartrate_plot = heartrate_with_altitude(stream=stream)\n",
    "velocity_plot = velocity_with_altitude(stream=stream)\n",
    "(heartrate_zone_plot, zone_plot) = heartrate_zones(stream=stream, heartrate_max=191)\n",
    "summary = all_streams(stream, alpha=0.1)"
   ]
  },
  {
   "cell_type": "markdown",
   "metadata": {},
   "source": [
    "## Save the plots, combine into single image"
   ]
  },
  {
   "cell_type": "code",
   "execution_count": 15,
   "metadata": {},
   "outputs": [
    {
     "name": "stderr",
     "output_type": "stream",
     "text": [
      "/Users/lucasnieuwenhout/miniforge3/envs/env_general/lib/python3.10/site-packages/plotnine/ggplot.py:718: PlotnineWarning: Saving 48 x 24 in image.\n",
      "/Users/lucasnieuwenhout/miniforge3/envs/env_general/lib/python3.10/site-packages/plotnine/ggplot.py:719: PlotnineWarning: Filename: plots/heartrate_plot.png\n",
      "/Users/lucasnieuwenhout/miniforge3/envs/env_general/lib/python3.10/site-packages/plotnine/ggplot.py:718: PlotnineWarning: Saving 48 x 24 in image.\n",
      "/Users/lucasnieuwenhout/miniforge3/envs/env_general/lib/python3.10/site-packages/plotnine/ggplot.py:719: PlotnineWarning: Filename: plots/velocity_plot.png\n",
      "/Users/lucasnieuwenhout/miniforge3/envs/env_general/lib/python3.10/site-packages/plotnine/ggplot.py:718: PlotnineWarning: Saving 48 x 24 in image.\n",
      "/Users/lucasnieuwenhout/miniforge3/envs/env_general/lib/python3.10/site-packages/plotnine/ggplot.py:719: PlotnineWarning: Filename: plots/heartrate_zone_plot.png\n",
      "/Users/lucasnieuwenhout/miniforge3/envs/env_general/lib/python3.10/site-packages/plotnine/layer.py:412: PlotnineWarning: geom_rect : Removed 1 rows containing missing values.\n",
      "/Users/lucasnieuwenhout/miniforge3/envs/env_general/lib/python3.10/site-packages/plotnine/geoms/geom_path.py:75: PlotnineWarning: geom_path: Removed 9 rows containing missing values.\n",
      "/Users/lucasnieuwenhout/miniforge3/envs/env_general/lib/python3.10/site-packages/plotnine/ggplot.py:718: PlotnineWarning: Saving 48 x 4 in image.\n",
      "/Users/lucasnieuwenhout/miniforge3/envs/env_general/lib/python3.10/site-packages/plotnine/ggplot.py:719: PlotnineWarning: Filename: plots/zone_plot.png\n",
      "/Users/lucasnieuwenhout/miniforge3/envs/env_general/lib/python3.10/site-packages/plotnine/ggplot.py:718: PlotnineWarning: Saving 48 x 24 in image.\n",
      "/Users/lucasnieuwenhout/miniforge3/envs/env_general/lib/python3.10/site-packages/plotnine/ggplot.py:719: PlotnineWarning: Filename: plots/stream_summary.png\n"
     ]
    }
   ],
   "source": [
    "plot_height = 24\n",
    "plot_width  = 48\n",
    "transparent_background = False\n",
    "heartrate_plot.save(filename=\"plots/heartrate_plot.png\", format=\"png\", height=plot_height, width=plot_width, limitsize=False, transparent=transparent_background)\n",
    "velocity_plot.save(filename=\"plots/velocity_plot.png\", format=\"png\", height=plot_height, width=plot_width, limitsize=False, transparent=transparent_background)\n",
    "heartrate_zone_plot.save(filename=\"plots/heartrate_zone_plot.png\", format=\"png\", height=plot_height, width=plot_width, limitsize=False, transparent=transparent_background)\n",
    "zone_plot.save(filename=\"plots/zone_plot.png\", format=\"png\", height=4, width=48, limitsize=False, transparent=transparent_background)\n",
    "summary.save(filename=\"plots/stream_summary.png\", format=\"png\", height=plot_height, width=plot_width, limitsize=False, transparent=transparent_background)\n",
    "\n",
    "id = stream.iloc[0][\"id\"]\n",
    "with open(f\"plots/summary_{ride_date.isoformat()}_{id}.png\", \"wb\") as fp:\n",
    "    combine_plots_vertical([\"plots/velocity_plot.png\", \"plots/heartrate_plot.png\", \"plots/heartrate_zone_plot.png\", \"plots/zone_plot.png\"]).save(fp=fp, format=\"png\")"
   ]
  },
  {
   "cell_type": "markdown",
   "metadata": {},
   "source": [
    "## Annual Plots"
   ]
  },
  {
   "cell_type": "code",
   "execution_count": 16,
   "metadata": {},
   "outputs": [
    {
     "name": "stderr",
     "output_type": "stream",
     "text": [
      "/Users/lucasnieuwenhout/miniforge3/envs/env_general/lib/python3.10/site-packages/plotnine/ggplot.py:718: PlotnineWarning: Saving 16 x 9 in image.\n",
      "/Users/lucasnieuwenhout/miniforge3/envs/env_general/lib/python3.10/site-packages/plotnine/ggplot.py:719: PlotnineWarning: Filename: plots/annual/heartrate.png\n",
      "/Users/lucasnieuwenhout/miniforge3/envs/env_general/lib/python3.10/site-packages/plotnine/layer.py:412: PlotnineWarning: geom_label : Removed 648 rows containing missing values.\n",
      "/Users/lucasnieuwenhout/miniforge3/envs/env_general/lib/python3.10/site-packages/plotnine/ggplot.py:718: PlotnineWarning: Saving 16 x 9 in image.\n",
      "/Users/lucasnieuwenhout/miniforge3/envs/env_general/lib/python3.10/site-packages/plotnine/ggplot.py:719: PlotnineWarning: Filename: plots/annual/speed.png\n",
      "/Users/lucasnieuwenhout/miniforge3/envs/env_general/lib/python3.10/site-packages/plotnine/layer.py:412: PlotnineWarning: geom_label : Removed 648 rows containing missing values.\n",
      "/Users/lucasnieuwenhout/miniforge3/envs/env_general/lib/python3.10/site-packages/plotnine/ggplot.py:718: PlotnineWarning: Saving 16 x 9 in image.\n",
      "/Users/lucasnieuwenhout/miniforge3/envs/env_general/lib/python3.10/site-packages/plotnine/ggplot.py:719: PlotnineWarning: Filename: plots/annual/distance.png\n",
      "/Users/lucasnieuwenhout/miniforge3/envs/env_general/lib/python3.10/site-packages/plotnine/ggplot.py:718: PlotnineWarning: Saving 16 x 9 in image.\n",
      "/Users/lucasnieuwenhout/miniforge3/envs/env_general/lib/python3.10/site-packages/plotnine/ggplot.py:719: PlotnineWarning: Filename: plots/annual/elevation.png\n",
      "/Users/lucasnieuwenhout/miniforge3/envs/env_general/lib/python3.10/site-packages/plotnine/ggplot.py:718: PlotnineWarning: Saving 16 x 9 in image.\n",
      "/Users/lucasnieuwenhout/miniforge3/envs/env_general/lib/python3.10/site-packages/plotnine/ggplot.py:719: PlotnineWarning: Filename: plots/annual/annual_time.png\n"
     ]
    }
   ],
   "source": [
    "subjects = [\"heartrate\", \"speed\", \"distance\", \"elevation\", \"annual_time\"]\n",
    "plots = [annual_plot(activities=activities_df, subject=x) for x in subjects]\n",
    "\n",
    "for i in range(len(subjects)):\n",
    "    filename = f\"plots/annual/{subjects[i]}.png\"\n",
    "    plots[i].save(filename=filename, format=\"png\", height=9, width=16, transparent=transparent_background)"
   ]
  },
  {
   "cell_type": "code",
   "execution_count": 17,
   "metadata": {},
   "outputs": [],
   "source": [
    "# profile = ProfileReport(activities_df, title=\"testing\").to_notebook_iframe()"
   ]
  },
  {
   "cell_type": "code",
   "execution_count": 19,
   "metadata": {},
   "outputs": [
    {
     "data": {
      "text/html": [
       "<div>\n",
       "<style scoped>\n",
       "    .dataframe tbody tr th:only-of-type {\n",
       "        vertical-align: middle;\n",
       "    }\n",
       "\n",
       "    .dataframe tbody tr th {\n",
       "        vertical-align: top;\n",
       "    }\n",
       "\n",
       "    .dataframe thead th {\n",
       "        text-align: right;\n",
       "    }\n",
       "</style>\n",
       "<table border=\"1\" class=\"dataframe\">\n",
       "  <thead>\n",
       "    <tr style=\"text-align: right;\">\n",
       "      <th></th>\n",
       "      <th>velocity</th>\n",
       "      <th>distance</th>\n",
       "      <th>altitude</th>\n",
       "      <th>heartrate</th>\n",
       "      <th>time</th>\n",
       "      <th>id</th>\n",
       "    </tr>\n",
       "  </thead>\n",
       "  <tbody>\n",
       "    <tr>\n",
       "      <th>count</th>\n",
       "      <td>7530.000000</td>\n",
       "      <td>7530.000000</td>\n",
       "      <td>7530.000000</td>\n",
       "      <td>7530.000000</td>\n",
       "      <td>7530.000000</td>\n",
       "      <td>7.530000e+03</td>\n",
       "    </tr>\n",
       "    <tr>\n",
       "      <th>mean</th>\n",
       "      <td>27.775769</td>\n",
       "      <td>30286.419429</td>\n",
       "      <td>670.697357</td>\n",
       "      <td>164.817530</td>\n",
       "      <td>3912.153785</td>\n",
       "      <td>7.830750e+09</td>\n",
       "    </tr>\n",
       "    <tr>\n",
       "      <th>std</th>\n",
       "      <td>6.020742</td>\n",
       "      <td>17042.415379</td>\n",
       "      <td>14.582619</td>\n",
       "      <td>10.570292</td>\n",
       "      <td>2267.134771</td>\n",
       "      <td>0.000000e+00</td>\n",
       "    </tr>\n",
       "    <tr>\n",
       "      <th>min</th>\n",
       "      <td>0.000000</td>\n",
       "      <td>0.000000</td>\n",
       "      <td>650.100000</td>\n",
       "      <td>101.000000</td>\n",
       "      <td>0.000000</td>\n",
       "      <td>7.830750e+09</td>\n",
       "    </tr>\n",
       "    <tr>\n",
       "      <th>25%</th>\n",
       "      <td>24.848100</td>\n",
       "      <td>15477.025000</td>\n",
       "      <td>656.500000</td>\n",
       "      <td>159.000000</td>\n",
       "      <td>1971.250000</td>\n",
       "      <td>7.830750e+09</td>\n",
       "    </tr>\n",
       "    <tr>\n",
       "      <th>50%</th>\n",
       "      <td>28.364400</td>\n",
       "      <td>30560.250000</td>\n",
       "      <td>665.500000</td>\n",
       "      <td>166.000000</td>\n",
       "      <td>3890.500000</td>\n",
       "      <td>7.830750e+09</td>\n",
       "    </tr>\n",
       "    <tr>\n",
       "      <th>75%</th>\n",
       "      <td>31.290300</td>\n",
       "      <td>45072.400000</td>\n",
       "      <td>686.700000</td>\n",
       "      <td>172.000000</td>\n",
       "      <td>5865.750000</td>\n",
       "      <td>7.830750e+09</td>\n",
       "    </tr>\n",
       "    <tr>\n",
       "      <th>max</th>\n",
       "      <td>65.203200</td>\n",
       "      <td>58940.400000</td>\n",
       "      <td>696.000000</td>\n",
       "      <td>183.000000</td>\n",
       "      <td>7894.000000</td>\n",
       "      <td>7.830750e+09</td>\n",
       "    </tr>\n",
       "  </tbody>\n",
       "</table>\n",
       "</div>"
      ],
      "text/plain": [
       "          velocity      distance     altitude    heartrate         time  \\\n",
       "count  7530.000000   7530.000000  7530.000000  7530.000000  7530.000000   \n",
       "mean     27.775769  30286.419429   670.697357   164.817530  3912.153785   \n",
       "std       6.020742  17042.415379    14.582619    10.570292  2267.134771   \n",
       "min       0.000000      0.000000   650.100000   101.000000     0.000000   \n",
       "25%      24.848100  15477.025000   656.500000   159.000000  1971.250000   \n",
       "50%      28.364400  30560.250000   665.500000   166.000000  3890.500000   \n",
       "75%      31.290300  45072.400000   686.700000   172.000000  5865.750000   \n",
       "max      65.203200  58940.400000   696.000000   183.000000  7894.000000   \n",
       "\n",
       "                 id  \n",
       "count  7.530000e+03  \n",
       "mean   7.830750e+09  \n",
       "std    0.000000e+00  \n",
       "min    7.830750e+09  \n",
       "25%    7.830750e+09  \n",
       "50%    7.830750e+09  \n",
       "75%    7.830750e+09  \n",
       "max    7.830750e+09  "
      ]
     },
     "execution_count": 19,
     "metadata": {},
     "output_type": "execute_result"
    }
   ],
   "source": [
    "stream.describe()"
   ]
  },
  {
   "cell_type": "code",
   "execution_count": 32,
   "metadata": {},
   "outputs": [
    {
     "name": "stderr",
     "output_type": "stream",
     "text": [
      "/Users/lucasnieuwenhout/miniforge3/envs/env_general/lib/python3.10/site-packages/plotnine/ggplot.py:718: PlotnineWarning: Saving 48 x 24 in image.\n",
      "/Users/lucasnieuwenhout/miniforge3/envs/env_general/lib/python3.10/site-packages/plotnine/ggplot.py:719: PlotnineWarning: Filename: plots/speed_histogram.png\n",
      "/Users/lucasnieuwenhout/miniforge3/envs/env_general/lib/python3.10/site-packages/plotnine/stats/stat_bin.py:95: PlotnineWarning: 'stat_bin()' using 'bins = 100'. Pick better value with 'binwidth'.\n",
      "/Users/lucasnieuwenhout/miniforge3/envs/env_general/lib/python3.10/site-packages/plotnine/stats/stat_bin.py:95: PlotnineWarning: 'stat_bin()' using 'bins = 100'. Pick better value with 'binwidth'.\n"
     ]
    },
    {
     "data": {
      "image/png": "[encoded data removed]",
      "text/plain": [
       "<Figure size 2000x1000 with 1 Axes>"
      ]
     },
     "metadata": {},
     "output_type": "display_data"
    },
    {
     "name": "stdout",
     "output_type": "stream",
     "text": [
      "\n"
     ]
    }
   ],
   "source": [
    "p = (ggplot(stream) + gg.geom_histogram(aes(x=\"velocity\"), colour=stred, fill=stred) \n",
    "    + pt.gg_theme() \n",
    "    + gg.theme(figure_size=(20, 10))\n",
    "    + gg.xlab(\"Speed [km/h]\")\n",
    "    + gg.ylab(\"Reading Count\"))\n",
    "\n",
    "p.save(filename=\"plots/speed_histogram.png\", format=\"png\", height=plot_height, width=plot_width, limitsize=False, transparent=True)\n",
    "print(p)"
   ]
  }
 ],
 "metadata": {
  "kernelspec": {
   "display_name": "Python 3.10.6 ('env_general')",
   "language": "python",
   "name": "python3"
  },
  "language_info": {
   "codemirror_mode": {
    "name": "ipython",
    "version": 3
   },
   "file_extension": ".py",
   "mimetype": "text/x-python",
   "name": "python",
   "nbconvert_exporter": "python",
   "pygments_lexer": "ipython3",
   "version": "3.10.6"
  },
  "orig_nbformat": 4,
  "vscode": {
   "interpreter": {
    "hash": "de944af4497b14f2d74f0bc74c1a5ab43189d083a047bbbfe146a54f270400ac"
   }
  }
 },
 "nbformat": 4,
 "nbformat_minor": 2
}
