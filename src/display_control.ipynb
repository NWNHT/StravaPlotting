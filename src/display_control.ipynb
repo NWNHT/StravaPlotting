{
 "cells": [
  {
   "cell_type": "code",
   "execution_count": null,
   "id": "6a49b386",
   "metadata": {},
   "outputs": [],
   "source": [
    "\n",
    "from datetime import date\n",
    "import os\n",
    "\n",
    "from strava.data.strava_requests import (\n",
    "    create_stream_df, \n",
    "    get_activity_stream_by_date, \n",
    "    activity_id_by_date,\n",
    ")\n",
    "from strava.data.cache import Cache\n",
    "from strava.data.segment_access import (\n",
    "    create_segment_catalog,\n",
    "    segment_id_from_activity_date_and_index,\n",
    ")\n",
    "from strava.plotting.strava_stream_plots import (\n",
    "    heartrate_with_altitude,\n",
    "    velocity_with_altitude,\n",
    "    heartrate_zones,\n",
    "    all_streams,\n",
    "    combine_plots_vertical,\n",
    ")\n",
    "from strava.plotting.strava_annual_plots import annual_plot\n",
    "from strava.plotting.segment_plots import segment_effort_graph\n",
    "from generate_plots import get_clean_activities\n",
    "\n",
    "%load_ext autoreload\n",
    "%autoreload 2"
   ]
  },
  {
   "cell_type": "markdown",
   "id": "20ad876d",
   "metadata": {},
   "source": [
    "# General Setup"
   ]
  },
  {
   "cell_type": "code",
   "execution_count": 2,
   "id": "a1054db5",
   "metadata": {},
   "outputs": [],
   "source": [
    "# Activities Cache\n",
    "cache = Cache()\n",
    "activity_cache = Cache(dir='/Users/lucasnieuwenhout/Documents/Programming/Python/Projects/StravaPlotting/activity_cache/')"
   ]
  },
  {
   "cell_type": "code",
   "execution_count": 3,
   "id": "cb37022d",
   "metadata": {},
   "outputs": [
    {
     "name": "stdout",
     "output_type": "stream",
     "text": [
      "Existing access token is valid.\n",
      "Beginning request of activities...\n",
      "-> Received page 1 with 200 activities.\n",
      "-> Received page 2 with 200 activities.\n",
      "-> Received page 3 with 200 activities.\n",
      "-> Received page 4 with 75 activities.\n",
      "-> Received page 5 with 0 activities.\n",
      "...retrieved total of 675 activities.\n"
     ]
    },
    {
     "name": "stderr",
     "output_type": "stream",
     "text": [
      "/Users/lucasnieuwenhout/Documents/Programming/Python/Projects/StravaPlotting/src/generate_plots.py:150: FutureWarning: 'S' is deprecated and will be removed in a future version. Please use 's' instead of 'S'.\n"
     ]
    }
   ],
   "source": [
    "# Retrieve the list of activities\n",
    "activities = get_clean_activities()"
   ]
  },
  {
   "cell_type": "markdown",
   "id": "e598d98a",
   "metadata": {},
   "source": [
    "# Create Summary Plot"
   ]
  },
  {
   "cell_type": "markdown",
   "id": "57bc5bea",
   "metadata": {},
   "source": [
    "### Retrieve Stream"
   ]
  },
  {
   "cell_type": "code",
   "execution_count": 4,
   "id": "3d05c6f2",
   "metadata": {},
   "outputs": [],
   "source": [
    "ride_date = date.today()\n",
    "ride_date = date(2025, 5, 12)\n",
    "ride_date = activities.sort_values('id', ascending=False).iloc[0].start_date_local.date()"
   ]
  },
  {
   "cell_type": "code",
   "execution_count": 5,
   "id": "5a875824",
   "metadata": {},
   "outputs": [],
   "source": [
    "stream = create_stream_df(\n",
    "    get_activity_stream_by_date(activities=activities, \n",
    "                                date=ride_date, \n",
    "                                cache=cache), \n",
    "    activity_id_by_date(activities=activities, \n",
    "                        date=ride_date)\n",
    "    )"
   ]
  },
  {
   "cell_type": "markdown",
   "id": "55aa8eeb",
   "metadata": {},
   "source": [
    "### Create Plots"
   ]
  },
  {
   "cell_type": "code",
   "execution_count": 6,
   "id": "589d14d8",
   "metadata": {},
   "outputs": [],
   "source": [
    "heartrate_plot = heartrate_with_altitude(stream=stream)\n",
    "velocity_plot = velocity_with_altitude(stream=stream)\n",
    "(heartrate_zone_plot, zone_plot) = heartrate_zones(stream=stream, heartrate_max=191)\n",
    "summary = all_streams(stream, alpha=0.1)"
   ]
  },
  {
   "cell_type": "markdown",
   "id": "b2bf0054",
   "metadata": {},
   "source": [
    "### Save Plots"
   ]
  },
  {
   "cell_type": "code",
   "execution_count": 7,
   "id": "bc7b403a",
   "metadata": {},
   "outputs": [
    {
     "name": "stderr",
     "output_type": "stream",
     "text": [
      "/Users/lucasnieuwenhout/miniforge3/envs/env_general/lib/python3.10/site-packages/plotnine/layer.py:372: PlotnineWarning: geom_rect : Removed 1 rows containing missing values.\n",
      "/Users/lucasnieuwenhout/miniforge3/envs/env_general/lib/python3.10/site-packages/plotnine/geoms/geom_path.py:100: PlotnineWarning: geom_path: Removed 9 rows containing missing values.\n"
     ]
    }
   ],
   "source": [
    "plot_height = 24\n",
    "plot_width  = 48\n",
    "transparent_background = False\n",
    "heartrate_plot.save(filename=\"../plots/plot_components/heartrate_plot.png\", format=\"png\", height=plot_height, width=plot_width, limitsize=False, transparent=transparent_background)\n",
    "velocity_plot.save(filename=\"../plots/plot_components/velocity_plot.png\", format=\"png\", height=plot_height, width=plot_width, limitsize=False, transparent=transparent_background)\n",
    "heartrate_zone_plot.save(filename=\"../plots/plot_components/heartrate_zone_plot.png\", format=\"png\", height=plot_height, width=plot_width, limitsize=False, transparent=transparent_background)\n",
    "zone_plot.save(filename=\"../plots/plot_components/zone_plot.png\", format=\"png\", height=4, width=48, limitsize=False, transparent=transparent_background)\n",
    "summary.save(filename=\"../plots/plot_components/stream_summary.png\", format=\"png\", height=plot_height, width=plot_width, limitsize=False, transparent=transparent_background)\n",
    "\n",
    "id = stream.iloc[0][\"id\"]\n",
    "with open(f\"../plots/summary_{ride_date.isoformat()}_{id}.png\", \"wb\") as fp:\n",
    "    combine_plots_vertical([\"../plots/plot_components/velocity_plot.png\", \"../plots/plot_components/heartrate_plot.png\", \"../plots/plot_components/heartrate_zone_plot.png\", \"../plots/plot_components/zone_plot.png\"]).save(fp=fp, format=\"png\")"
   ]
  },
  {
   "cell_type": "markdown",
   "id": "f3ba5921",
   "metadata": {},
   "source": [
    "# Create Annual Plots"
   ]
  },
  {
   "cell_type": "code",
   "execution_count": 8,
   "id": "2bbe8ee2",
   "metadata": {},
   "outputs": [
    {
     "name": "stderr",
     "output_type": "stream",
     "text": [
      "/Users/lucasnieuwenhout/miniforge3/envs/env_general/lib/python3.10/site-packages/plotnine/layer.py:372: PlotnineWarning: geom_label : Removed 934 rows containing missing values.\n",
      "/Users/lucasnieuwenhout/miniforge3/envs/env_general/lib/python3.10/site-packages/plotnine/layer.py:372: PlotnineWarning: geom_label : Removed 934 rows containing missing values.\n",
      "/Users/lucasnieuwenhout/miniforge3/envs/env_general/lib/python3.10/site-packages/plotnine/scales/scale_manual.py:45: PlotnineWarning: The palette of scale_color_manual can return a maximum of 3 values. 6 were requested from it.\n"
     ]
    }
   ],
   "source": [
    "subjects = [\"heartrate\", \"speed\", \"distance\", \"elevation\", \"annual_time\"]\n",
    "plots = [annual_plot(activities=activities, subject=x) for x in subjects]\n",
    "\n",
    "for i in range(len(subjects)):\n",
    "    filename = f\"../plots/annual/{subjects[i]}.png\"\n",
    "    plots[i].save(filename=filename, format=\"png\", height=9, width=30, transparent=transparent_background, limitsize=False)"
   ]
  },
  {
   "cell_type": "markdown",
   "id": "1b1c6fab",
   "metadata": {},
   "source": [
    "# Create Relevant Segments"
   ]
  },
  {
   "cell_type": "markdown",
   "id": "0eb13105",
   "metadata": {},
   "source": [
    "### Retrieve Segments"
   ]
  },
  {
   "cell_type": "code",
   "execution_count": 9,
   "id": "d47c8200",
   "metadata": {},
   "outputs": [],
   "source": [
    "# bc_activities = activities[activities.start_latlng.apply(lambda x: float(x[0])) < 50]\n",
    "segment_catalog = create_segment_catalog(activities, activity_cache)"
   ]
  },
  {
   "cell_type": "markdown",
   "id": "36fff006",
   "metadata": {},
   "source": [
    "### Plot Segments"
   ]
  },
  {
   "cell_type": "code",
   "execution_count": 10,
   "id": "48561a78",
   "metadata": {},
   "outputs": [],
   "source": [
    "segments_path = r'/Users/lucasnieuwenhout/Documents/Programming/Python/Projects/StravaPlotting/plots/segments/'\n",
    "latest_segments_path = r'/Users/lucasnieuwenhout/Documents/Programming/Python/Projects/StravaPlotting/plots/latest_segments/'\n",
    "segment_save_paths = [segments_path, latest_segments_path]"
   ]
  },
  {
   "cell_type": "code",
   "execution_count": 11,
   "id": "8125e1c6",
   "metadata": {},
   "outputs": [],
   "source": [
    "ride_segments = segment_id_from_activity_date_and_index(activities=activities,\n",
    "                                                        activity_cache=activity_cache,\n",
    "                                                        activity_date=ride_date,\n",
    "                                                        entire_list=True)\n",
    "os.system(f'rm {latest_segments_path}*')\n",
    "for segment_id in ride_segments:\n",
    "    segment_effort_graph(segment_catalog=segment_catalog,\n",
    "                        segment_id=segment_id,\n",
    "                        segment_plot_path=segment_save_paths,\n",
    "                        previous_x=8)"
   ]
  }
 ],
 "metadata": {
  "kernelspec": {
   "display_name": "env_general",
   "language": "python",
   "name": "python3"
  },
  "language_info": {
   "codemirror_mode": {
    "name": "ipython",
    "version": 3
   },
   "file_extension": ".py",
   "mimetype": "text/x-python",
   "name": "python",
   "nbconvert_exporter": "python",
   "pygments_lexer": "ipython3",
   "version": "3.10.6"
  }
 },
 "nbformat": 4,
 "nbformat_minor": 5
}
