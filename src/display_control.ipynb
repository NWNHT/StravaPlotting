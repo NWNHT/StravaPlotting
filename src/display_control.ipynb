{
 "cells": [
  {
   "cell_type": "code",
   "execution_count": 2,
   "id": "6a49b386",
   "metadata": {},
   "outputs": [],
   "source": [
    "\n",
    "from datetime import date\n",
    "\n",
    "from strava.data.strava_requests import (\n",
    "    create_stream_df, \n",
    "    get_activity_stream_by_date, \n",
    "    activity_id_by_date,\n",
    ")\n",
    "from strava.data.cache import Cache\n",
    "from strava.data.segment_access import create_segment_catalog\n",
    "from generate_plots import (\n",
    "    get_clean_activities,\n",
    "    create_annual_plots,\n",
    "    create_stream_plots,\n",
    "    create_segments,\n",
    ")\n",
    "\n",
    "%load_ext autoreload\n",
    "%autoreload 2"
   ]
  },
  {
   "cell_type": "markdown",
   "id": "20ad876d",
   "metadata": {},
   "source": [
    "# General Setup"
   ]
  },
  {
   "cell_type": "code",
   "execution_count": 3,
   "id": "a52210bd",
   "metadata": {},
   "outputs": [],
   "source": [
    "plot_filepath = '../plots/'"
   ]
  },
  {
   "cell_type": "code",
   "execution_count": 4,
   "id": "a1054db5",
   "metadata": {},
   "outputs": [],
   "source": [
    "# Activities Cache\n",
    "cache = Cache()\n",
    "activity_cache = Cache(dir='/Users/lucasnieuwenhout/Documents/Programming/Python/Projects/StravaPlotting/activity_cache/')"
   ]
  },
  {
   "cell_type": "code",
   "execution_count": 5,
   "id": "cb37022d",
   "metadata": {},
   "outputs": [
    {
     "name": "stdout",
     "output_type": "stream",
     "text": [
      "Existing access token is valid.\n",
      "Beginning request of activities...\n",
      "-> Received page 1 with 200 activities.\n",
      "-> Received page 2 with 200 activities.\n",
      "-> Received page 3 with 200 activities.\n",
      "-> Received page 4 with 75 activities.\n",
      "-> Received page 5 with 0 activities.\n",
      "...retrieved total of 675 activities.\n"
     ]
    },
    {
     "name": "stderr",
     "output_type": "stream",
     "text": [
      "/Users/lucasnieuwenhout/Documents/Programming/Python/Projects/StravaPlotting/src/generate_plots.py:186: FutureWarning: 'S' is deprecated and will be removed in a future version. Please use 's' instead of 'S'.\n"
     ]
    }
   ],
   "source": [
    "# Retrieve the list of activities\n",
    "activities = get_clean_activities()"
   ]
  },
  {
   "cell_type": "markdown",
   "id": "e598d98a",
   "metadata": {},
   "source": [
    "# Create Summary Plot"
   ]
  },
  {
   "cell_type": "markdown",
   "id": "57bc5bea",
   "metadata": {},
   "source": [
    "### Retrieve Stream"
   ]
  },
  {
   "cell_type": "code",
   "execution_count": 6,
   "id": "3d05c6f2",
   "metadata": {},
   "outputs": [],
   "source": [
    "ride_date = date.today()\n",
    "ride_date = date(2025, 5, 12)\n",
    "ride_date = activities.sort_values('id', ascending=False).iloc[0].start_date_local.date()"
   ]
  },
  {
   "cell_type": "code",
   "execution_count": 7,
   "id": "5a875824",
   "metadata": {},
   "outputs": [],
   "source": [
    "stream = create_stream_df(\n",
    "    get_activity_stream_by_date(activities=activities, \n",
    "                                date=ride_date, \n",
    "                                cache=cache), \n",
    "    activity_id_by_date(activities=activities, \n",
    "                        date=ride_date)\n",
    "    )"
   ]
  },
  {
   "cell_type": "markdown",
   "id": "55aa8eeb",
   "metadata": {},
   "source": [
    "### Create Plots"
   ]
  },
  {
   "cell_type": "code",
   "execution_count": 8,
   "id": "8fde5fa6",
   "metadata": {},
   "outputs": [
    {
     "name": "stderr",
     "output_type": "stream",
     "text": [
      "/Users/lucasnieuwenhout/miniforge3/envs/env_general/lib/python3.10/site-packages/plotnine/layer.py:372: PlotnineWarning: geom_rect : Removed 1 rows containing missing values.\n",
      "/Users/lucasnieuwenhout/miniforge3/envs/env_general/lib/python3.10/site-packages/plotnine/geoms/geom_path.py:100: PlotnineWarning: geom_path: Removed 9 rows containing missing values.\n"
     ]
    }
   ],
   "source": [
    "create_stream_plots(stream=stream, date=ride_date, plot_filepath=plot_filepath)"
   ]
  },
  {
   "cell_type": "markdown",
   "id": "f3ba5921",
   "metadata": {},
   "source": [
    "# Create Annual Plots"
   ]
  },
  {
   "cell_type": "code",
   "execution_count": 9,
   "id": "2bbe8ee2",
   "metadata": {},
   "outputs": [
    {
     "name": "stderr",
     "output_type": "stream",
     "text": [
      "/Users/lucasnieuwenhout/miniforge3/envs/env_general/lib/python3.10/site-packages/plotnine/layer.py:372: PlotnineWarning: geom_label : Removed 934 rows containing missing values.\n",
      "/Users/lucasnieuwenhout/miniforge3/envs/env_general/lib/python3.10/site-packages/plotnine/layer.py:372: PlotnineWarning: geom_label : Removed 934 rows containing missing values.\n",
      "/Users/lucasnieuwenhout/miniforge3/envs/env_general/lib/python3.10/site-packages/plotnine/scales/scale_manual.py:45: PlotnineWarning: The palette of scale_color_manual can return a maximum of 3 values. 6 were requested from it.\n"
     ]
    }
   ],
   "source": [
    "create_annual_plots(activities=activities, plot_filepath=plot_filepath)"
   ]
  },
  {
   "cell_type": "markdown",
   "id": "1b1c6fab",
   "metadata": {},
   "source": [
    "# Create Relevant Segments"
   ]
  },
  {
   "cell_type": "markdown",
   "id": "0eb13105",
   "metadata": {},
   "source": [
    "### Retrieve Segments"
   ]
  },
  {
   "cell_type": "code",
   "execution_count": 10,
   "id": "d47c8200",
   "metadata": {},
   "outputs": [],
   "source": [
    "# bc_activities = activities[activities.start_latlng.apply(lambda x: float(x[0])) < 50]\n",
    "segment_catalog = create_segment_catalog(activities, activity_cache)"
   ]
  },
  {
   "cell_type": "markdown",
   "id": "36fff006",
   "metadata": {},
   "source": [
    "### Plot Segments"
   ]
  },
  {
   "cell_type": "code",
   "execution_count": 11,
   "id": "48561a78",
   "metadata": {},
   "outputs": [],
   "source": [
    "segments_path = r'/Users/lucasnieuwenhout/Documents/Programming/Python/Projects/StravaPlotting/plots/segments/'\n",
    "latest_segments_path = r'/Users/lucasnieuwenhout/Documents/Programming/Python/Projects/StravaPlotting/plots/latest_segments/'\n",
    "segment_save_paths = [segments_path, latest_segments_path]"
   ]
  },
  {
   "cell_type": "code",
   "execution_count": 12,
   "id": "96cc116b",
   "metadata": {},
   "outputs": [],
   "source": [
    "create_segments(activities, activity_cache, ride_date)"
   ]
  }
 ],
 "metadata": {
  "kernelspec": {
   "display_name": "env_general",
   "language": "python",
   "name": "python3"
  },
  "language_info": {
   "codemirror_mode": {
    "name": "ipython",
    "version": 3
   },
   "file_extension": ".py",
   "mimetype": "text/x-python",
   "name": "python",
   "nbconvert_exporter": "python",
   "pygments_lexer": "ipython3",
   "version": "3.10.6"
  }
 },
 "nbformat": 4,
 "nbformat_minor": 5
}
